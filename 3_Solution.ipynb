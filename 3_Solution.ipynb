{
  "cells": [
    {
      "cell_type": "markdown",
      "id": "59a44e4e",
      "metadata": {
        "id": "59a44e4e"
      },
      "source": [
        "# English-German Translation using FLAN-T5 and WMT16 Dataset"
      ]
    },
    {
      "cell_type": "markdown",
      "id": "a85ba75f",
      "metadata": {
        "id": "a85ba75f"
      },
      "source": [
        "## Introduction\n",
        "In this notebook, we will use the FLAN-T5 model to perform translation from English to German using the WMT16 dataset. We will preprocess the data, fine-tune the model, and evaluate its performance using the BLEU metric."
      ]
    },
    {
      "cell_type": "code",
      "execution_count": 1,
      "id": "d049e51c",
      "metadata": {
        "colab": {
          "base_uri": "https://localhost:8080/"
        },
        "id": "d049e51c",
        "executionInfo": {
          "status": "ok",
          "timestamp": 1718836739328,
          "user_tz": 420,
          "elapsed": 11961,
          "user": {
            "displayName": "Axel Sirota",
            "userId": "02089179879199828401"
          }
        },
        "outputId": "d09e03e4-9570-45f7-88a1-729331d3b055"
      },
      "outputs": [
        {
          "output_type": "stream",
          "name": "stdout",
          "text": [
            "Requirement already satisfied: transformers in /usr/local/lib/python3.10/dist-packages (4.41.2)\n",
            "Requirement already satisfied: tensorflow in /usr/local/lib/python3.10/dist-packages (2.15.0)\n",
            "Collecting datasets\n",
            "  Downloading datasets-2.20.0-py3-none-any.whl (547 kB)\n",
            "\u001b[2K     \u001b[90m━━━━━━━━━━━━━━━━━━━━━━━━━━━━━━━━━━━━━━━━\u001b[0m \u001b[32m547.8/547.8 kB\u001b[0m \u001b[31m6.7 MB/s\u001b[0m eta \u001b[36m0:00:00\u001b[0m\n",
            "\u001b[?25hRequirement already satisfied: nltk in /usr/local/lib/python3.10/dist-packages (3.8.1)\n",
            "Requirement already satisfied: filelock in /usr/local/lib/python3.10/dist-packages (from transformers) (3.14.0)\n",
            "Requirement already satisfied: huggingface-hub<1.0,>=0.23.0 in /usr/local/lib/python3.10/dist-packages (from transformers) (0.23.3)\n",
            "Requirement already satisfied: numpy>=1.17 in /usr/local/lib/python3.10/dist-packages (from transformers) (1.25.2)\n",
            "Requirement already satisfied: packaging>=20.0 in /usr/local/lib/python3.10/dist-packages (from transformers) (24.1)\n",
            "Requirement already satisfied: pyyaml>=5.1 in /usr/local/lib/python3.10/dist-packages (from transformers) (6.0.1)\n",
            "Requirement already satisfied: regex!=2019.12.17 in /usr/local/lib/python3.10/dist-packages (from transformers) (2024.5.15)\n",
            "Requirement already satisfied: requests in /usr/local/lib/python3.10/dist-packages (from transformers) (2.31.0)\n",
            "Requirement already satisfied: tokenizers<0.20,>=0.19 in /usr/local/lib/python3.10/dist-packages (from transformers) (0.19.1)\n",
            "Requirement already satisfied: safetensors>=0.4.1 in /usr/local/lib/python3.10/dist-packages (from transformers) (0.4.3)\n",
            "Requirement already satisfied: tqdm>=4.27 in /usr/local/lib/python3.10/dist-packages (from transformers) (4.66.4)\n",
            "Requirement already satisfied: absl-py>=1.0.0 in /usr/local/lib/python3.10/dist-packages (from tensorflow) (1.4.0)\n",
            "Requirement already satisfied: astunparse>=1.6.0 in /usr/local/lib/python3.10/dist-packages (from tensorflow) (1.6.3)\n",
            "Requirement already satisfied: flatbuffers>=23.5.26 in /usr/local/lib/python3.10/dist-packages (from tensorflow) (24.3.25)\n",
            "Requirement already satisfied: gast!=0.5.0,!=0.5.1,!=0.5.2,>=0.2.1 in /usr/local/lib/python3.10/dist-packages (from tensorflow) (0.5.4)\n",
            "Requirement already satisfied: google-pasta>=0.1.1 in /usr/local/lib/python3.10/dist-packages (from tensorflow) (0.2.0)\n",
            "Requirement already satisfied: h5py>=2.9.0 in /usr/local/lib/python3.10/dist-packages (from tensorflow) (3.9.0)\n",
            "Requirement already satisfied: libclang>=13.0.0 in /usr/local/lib/python3.10/dist-packages (from tensorflow) (18.1.1)\n",
            "Requirement already satisfied: ml-dtypes~=0.2.0 in /usr/local/lib/python3.10/dist-packages (from tensorflow) (0.2.0)\n",
            "Requirement already satisfied: opt-einsum>=2.3.2 in /usr/local/lib/python3.10/dist-packages (from tensorflow) (3.3.0)\n",
            "Requirement already satisfied: protobuf!=4.21.0,!=4.21.1,!=4.21.2,!=4.21.3,!=4.21.4,!=4.21.5,<5.0.0dev,>=3.20.3 in /usr/local/lib/python3.10/dist-packages (from tensorflow) (3.20.3)\n",
            "Requirement already satisfied: setuptools in /usr/local/lib/python3.10/dist-packages (from tensorflow) (67.7.2)\n",
            "Requirement already satisfied: six>=1.12.0 in /usr/local/lib/python3.10/dist-packages (from tensorflow) (1.16.0)\n",
            "Requirement already satisfied: termcolor>=1.1.0 in /usr/local/lib/python3.10/dist-packages (from tensorflow) (2.4.0)\n",
            "Requirement already satisfied: typing-extensions>=3.6.6 in /usr/local/lib/python3.10/dist-packages (from tensorflow) (4.12.2)\n",
            "Requirement already satisfied: wrapt<1.15,>=1.11.0 in /usr/local/lib/python3.10/dist-packages (from tensorflow) (1.14.1)\n",
            "Requirement already satisfied: tensorflow-io-gcs-filesystem>=0.23.1 in /usr/local/lib/python3.10/dist-packages (from tensorflow) (0.37.0)\n",
            "Requirement already satisfied: grpcio<2.0,>=1.24.3 in /usr/local/lib/python3.10/dist-packages (from tensorflow) (1.64.1)\n",
            "Requirement already satisfied: tensorboard<2.16,>=2.15 in /usr/local/lib/python3.10/dist-packages (from tensorflow) (2.15.2)\n",
            "Requirement already satisfied: tensorflow-estimator<2.16,>=2.15.0 in /usr/local/lib/python3.10/dist-packages (from tensorflow) (2.15.0)\n",
            "Requirement already satisfied: keras<2.16,>=2.15.0 in /usr/local/lib/python3.10/dist-packages (from tensorflow) (2.15.0)\n",
            "Collecting pyarrow>=15.0.0 (from datasets)\n",
            "  Downloading pyarrow-16.1.0-cp310-cp310-manylinux_2_28_x86_64.whl (40.8 MB)\n",
            "\u001b[2K     \u001b[90m━━━━━━━━━━━━━━━━━━━━━━━━━━━━━━━━━━━━━━━━\u001b[0m \u001b[32m40.8/40.8 MB\u001b[0m \u001b[31m39.6 MB/s\u001b[0m eta \u001b[36m0:00:00\u001b[0m\n",
            "\u001b[?25hRequirement already satisfied: pyarrow-hotfix in /usr/local/lib/python3.10/dist-packages (from datasets) (0.6)\n",
            "Collecting dill<0.3.9,>=0.3.0 (from datasets)\n",
            "  Downloading dill-0.3.8-py3-none-any.whl (116 kB)\n",
            "\u001b[2K     \u001b[90m━━━━━━━━━━━━━━━━━━━━━━━━━━━━━━━━━━━━━━━━\u001b[0m \u001b[32m116.3/116.3 kB\u001b[0m \u001b[31m18.3 MB/s\u001b[0m eta \u001b[36m0:00:00\u001b[0m\n",
            "\u001b[?25hRequirement already satisfied: pandas in /usr/local/lib/python3.10/dist-packages (from datasets) (2.0.3)\n",
            "Collecting requests (from transformers)\n",
            "  Downloading requests-2.32.3-py3-none-any.whl (64 kB)\n",
            "\u001b[2K     \u001b[90m━━━━━━━━━━━━━━━━━━━━━━━━━━━━━━━━━━━━━━━━\u001b[0m \u001b[32m64.9/64.9 kB\u001b[0m \u001b[31m7.6 MB/s\u001b[0m eta \u001b[36m0:00:00\u001b[0m\n",
            "\u001b[?25hCollecting xxhash (from datasets)\n",
            "  Downloading xxhash-3.4.1-cp310-cp310-manylinux_2_17_x86_64.manylinux2014_x86_64.whl (194 kB)\n",
            "\u001b[2K     \u001b[90m━━━━━━━━━━━━━━━━━━━━━━━━━━━━━━━━━━━━━━━━\u001b[0m \u001b[32m194.1/194.1 kB\u001b[0m \u001b[31m12.8 MB/s\u001b[0m eta \u001b[36m0:00:00\u001b[0m\n",
            "\u001b[?25hCollecting multiprocess (from datasets)\n",
            "  Downloading multiprocess-0.70.16-py310-none-any.whl (134 kB)\n",
            "\u001b[2K     \u001b[90m━━━━━━━━━━━━━━━━━━━━━━━━━━━━━━━━━━━━━━━━\u001b[0m \u001b[32m134.8/134.8 kB\u001b[0m \u001b[31m19.5 MB/s\u001b[0m eta \u001b[36m0:00:00\u001b[0m\n",
            "\u001b[?25hRequirement already satisfied: fsspec[http]<=2024.5.0,>=2023.1.0 in /usr/local/lib/python3.10/dist-packages (from datasets) (2023.6.0)\n",
            "Requirement already satisfied: aiohttp in /usr/local/lib/python3.10/dist-packages (from datasets) (3.9.5)\n",
            "Requirement already satisfied: click in /usr/local/lib/python3.10/dist-packages (from nltk) (8.1.7)\n",
            "Requirement already satisfied: joblib in /usr/local/lib/python3.10/dist-packages (from nltk) (1.4.2)\n",
            "Requirement already satisfied: wheel<1.0,>=0.23.0 in /usr/local/lib/python3.10/dist-packages (from astunparse>=1.6.0->tensorflow) (0.43.0)\n",
            "Requirement already satisfied: aiosignal>=1.1.2 in /usr/local/lib/python3.10/dist-packages (from aiohttp->datasets) (1.3.1)\n",
            "Requirement already satisfied: attrs>=17.3.0 in /usr/local/lib/python3.10/dist-packages (from aiohttp->datasets) (23.2.0)\n",
            "Requirement already satisfied: frozenlist>=1.1.1 in /usr/local/lib/python3.10/dist-packages (from aiohttp->datasets) (1.4.1)\n",
            "Requirement already satisfied: multidict<7.0,>=4.5 in /usr/local/lib/python3.10/dist-packages (from aiohttp->datasets) (6.0.5)\n",
            "Requirement already satisfied: yarl<2.0,>=1.0 in /usr/local/lib/python3.10/dist-packages (from aiohttp->datasets) (1.9.4)\n",
            "Requirement already satisfied: async-timeout<5.0,>=4.0 in /usr/local/lib/python3.10/dist-packages (from aiohttp->datasets) (4.0.3)\n",
            "Requirement already satisfied: charset-normalizer<4,>=2 in /usr/local/lib/python3.10/dist-packages (from requests->transformers) (3.3.2)\n",
            "Requirement already satisfied: idna<4,>=2.5 in /usr/local/lib/python3.10/dist-packages (from requests->transformers) (3.7)\n",
            "Requirement already satisfied: urllib3<3,>=1.21.1 in /usr/local/lib/python3.10/dist-packages (from requests->transformers) (2.0.7)\n",
            "Requirement already satisfied: certifi>=2017.4.17 in /usr/local/lib/python3.10/dist-packages (from requests->transformers) (2024.6.2)\n",
            "Requirement already satisfied: google-auth<3,>=1.6.3 in /usr/local/lib/python3.10/dist-packages (from tensorboard<2.16,>=2.15->tensorflow) (2.27.0)\n",
            "Requirement already satisfied: google-auth-oauthlib<2,>=0.5 in /usr/local/lib/python3.10/dist-packages (from tensorboard<2.16,>=2.15->tensorflow) (1.2.0)\n",
            "Requirement already satisfied: markdown>=2.6.8 in /usr/local/lib/python3.10/dist-packages (from tensorboard<2.16,>=2.15->tensorflow) (3.6)\n",
            "Requirement already satisfied: tensorboard-data-server<0.8.0,>=0.7.0 in /usr/local/lib/python3.10/dist-packages (from tensorboard<2.16,>=2.15->tensorflow) (0.7.2)\n",
            "Requirement already satisfied: werkzeug>=1.0.1 in /usr/local/lib/python3.10/dist-packages (from tensorboard<2.16,>=2.15->tensorflow) (3.0.3)\n",
            "Requirement already satisfied: python-dateutil>=2.8.2 in /usr/local/lib/python3.10/dist-packages (from pandas->datasets) (2.8.2)\n",
            "Requirement already satisfied: pytz>=2020.1 in /usr/local/lib/python3.10/dist-packages (from pandas->datasets) (2023.4)\n",
            "Requirement already satisfied: tzdata>=2022.1 in /usr/local/lib/python3.10/dist-packages (from pandas->datasets) (2024.1)\n",
            "Requirement already satisfied: cachetools<6.0,>=2.0.0 in /usr/local/lib/python3.10/dist-packages (from google-auth<3,>=1.6.3->tensorboard<2.16,>=2.15->tensorflow) (5.3.3)\n",
            "Requirement already satisfied: pyasn1-modules>=0.2.1 in /usr/local/lib/python3.10/dist-packages (from google-auth<3,>=1.6.3->tensorboard<2.16,>=2.15->tensorflow) (0.4.0)\n",
            "Requirement already satisfied: rsa<5,>=3.1.4 in /usr/local/lib/python3.10/dist-packages (from google-auth<3,>=1.6.3->tensorboard<2.16,>=2.15->tensorflow) (4.9)\n",
            "Requirement already satisfied: requests-oauthlib>=0.7.0 in /usr/local/lib/python3.10/dist-packages (from google-auth-oauthlib<2,>=0.5->tensorboard<2.16,>=2.15->tensorflow) (1.3.1)\n",
            "Requirement already satisfied: MarkupSafe>=2.1.1 in /usr/local/lib/python3.10/dist-packages (from werkzeug>=1.0.1->tensorboard<2.16,>=2.15->tensorflow) (2.1.5)\n",
            "Requirement already satisfied: pyasn1<0.7.0,>=0.4.6 in /usr/local/lib/python3.10/dist-packages (from pyasn1-modules>=0.2.1->google-auth<3,>=1.6.3->tensorboard<2.16,>=2.15->tensorflow) (0.6.0)\n",
            "Requirement already satisfied: oauthlib>=3.0.0 in /usr/local/lib/python3.10/dist-packages (from requests-oauthlib>=0.7.0->google-auth-oauthlib<2,>=0.5->tensorboard<2.16,>=2.15->tensorflow) (3.2.2)\n",
            "Installing collected packages: xxhash, requests, pyarrow, dill, multiprocess, datasets\n",
            "  Attempting uninstall: requests\n",
            "    Found existing installation: requests 2.31.0\n",
            "    Uninstalling requests-2.31.0:\n",
            "      Successfully uninstalled requests-2.31.0\n",
            "  Attempting uninstall: pyarrow\n",
            "    Found existing installation: pyarrow 14.0.2\n",
            "    Uninstalling pyarrow-14.0.2:\n",
            "      Successfully uninstalled pyarrow-14.0.2\n",
            "\u001b[31mERROR: pip's dependency resolver does not currently take into account all the packages that are installed. This behaviour is the source of the following dependency conflicts.\n",
            "cudf-cu12 24.4.1 requires pyarrow<15.0.0a0,>=14.0.1, but you have pyarrow 16.1.0 which is incompatible.\n",
            "google-colab 1.0.0 requires requests==2.31.0, but you have requests 2.32.3 which is incompatible.\n",
            "ibis-framework 8.0.0 requires pyarrow<16,>=2, but you have pyarrow 16.1.0 which is incompatible.\u001b[0m\u001b[31m\n",
            "\u001b[0mSuccessfully installed datasets-2.20.0 dill-0.3.8 multiprocess-0.70.16 pyarrow-16.1.0 requests-2.32.3 xxhash-3.4.1\n"
          ]
        }
      ],
      "source": [
        "!pip install transformers tensorflow datasets nltk"
      ]
    },
    {
      "cell_type": "markdown",
      "id": "633c4632",
      "metadata": {
        "id": "633c4632"
      },
      "source": [
        "## Choose and Preprocess Dataset"
      ]
    },
    {
      "cell_type": "code",
      "execution_count": 2,
      "id": "fa84ec96",
      "metadata": {
        "colab": {
          "base_uri": "https://localhost:8080/",
          "height": 446,
          "referenced_widgets": [
            "bcdd66f19d7b4fa39a14daa285c7146f",
            "9811be3b2f30468db0527349faf17556",
            "a8413e14eb374d6b9c83b35fa3772a4b",
            "651c0ec1bd9841e8a11e5c72ccf77f9e",
            "d0aaac779e984d5dbe5e58d51b601146",
            "07cde6c9a42b44aaaecea73a07e64c48",
            "2d973aa1394747909f81a9d4fd777dda",
            "7111bcabe47a4aacb6bcf37b4043627c",
            "01f20eff9a624b4db136d04befd5dad9",
            "aaef869db2f941468bf431607f1fa82e",
            "6dd94d469c9f4c4bbc2747a1797b44d2",
            "437ab5160c8c424ca0d2af94894a3ab9",
            "b7de510cbad940389ef0da4bdc39d108",
            "15d2a83ff9ad4fcaae5b194d1524ae69",
            "ea6b5644ef274d7588cf75d06d266613",
            "3f253ff8e2f64e56915b3bd797f2642f",
            "83e93bae56e14423b63879122817a859",
            "c620bc343cad4539b9007f8d5c9710b1",
            "9c30c42ea58142478457a85314836521",
            "eb3fe9bc78f64a64a76d8c85abb5ddc3",
            "623cb639f92242ff929bd4efb369f983",
            "2ee7c9bab23d45c8863968322d5573ec",
            "7d3441f2b7e945ec8faeee3d0a749525",
            "0aee2283838143eea2a48977c8235f7a",
            "ba4833291abe4ac396c988b3dbb082b0",
            "95b4fe90da1f40d88ebce5a1bfd18336",
            "a079514d43f64bf0b29dba0884980f21",
            "0c4a36bc68514d848851740ddccf4b7d",
            "43c85bfc3e2a41dc9092ff6d0b822476",
            "0d748112a5a84b348d01b13c92c43628",
            "c8835e0a4e434ac9893bd5346f40b6b2",
            "1e315f5036194789b0ff49fbbfbffc2d",
            "820d9bef13d54a8c9735dc2def7f8695",
            "7100377d0a5446eb82fa82fe82e3f116",
            "49941900a68e47a6a40ddd3640b84c1c",
            "112abf9ed5524ee79fa12b8afa16ecd2",
            "41aeeb0fd6874e84ba3dc5348fe8a740",
            "32c953ac7ece475c93361889e3f687ed",
            "512f7b1e546f4d808e94b32c247e4be8",
            "da69ec21b3c14cd5bec634dc62d14a8d",
            "60c7411a3b1e4e55881f77b89347842e",
            "baa3436ae7d94a5fa60dc2be8d55150c",
            "9f5015223df441fbba81be17d48a2553",
            "37065d3aa2064b88b5487649d51495fe",
            "bb683e82523e4f0bb90a57e380ddb8b2",
            "924d873cc9bc47fbba05457730e08150",
            "268d5986bd7746be9d866158d7df70b7",
            "562a9ca82d074caaae8b74c2b54b33a3",
            "a8a910dc2cc24d68a4f90102e52758eb",
            "4bcd540098884169b9faa83d705b1655",
            "99dcbef103e348c68576fbd634c7baab",
            "f8544a848a2744ff821e5e6a89c92eb7",
            "daaf30663f9944388eec1edfd55d9a4a",
            "5df7e0f97e174c4c9b985cc94c442ebc",
            "7f935c8384504d52bbb78f86c80311ce",
            "36057055c4424c938de890ce5755db83",
            "071a19602ee441fea18fb752178f6be0",
            "2d6559d9aaac4e428264b559066e60d4",
            "8af478a5ea6d460a878d93b23bdb7e4b",
            "b190ce1d01d9401989fd2cc27fc26ba0",
            "d7feead7f27e4134b02efd991397598c",
            "34322d4d6eb143efabacc7d772e4317b",
            "035fc48b6fcc4e3b8281f23e803e31b0",
            "fae012221b26406abb0b331d038f7270",
            "e60edde1fc7a4cda9e17374bdae2679d",
            "924509dcf5734f6d9d24ce52a30f3d78",
            "b62e961c8b6b4c55b0e3f988275866b4",
            "1cd1c044174b40e187c8191b8098ec8a",
            "89784f91fa4344148a21e3a21ac583f1",
            "53c81414c6914c48bc2a35b28b1a51d7",
            "21c222596c5344f085b487f97ff26fe8",
            "c9815055bb3d43c8879dcce96459abeb",
            "bab8f695a0614e1abde869a92dcbc83d",
            "0eeb696f485b4bc6ac42dbfa2c276f99",
            "5eec7c219d2540a3abebccd341de8555",
            "b06e0204bef24545b010e786ab1f8e75",
            "ab3df26ef70d4b93a461c972551ba453",
            "29b9c79fc0124d81a27acd14e4a0f7ea",
            "097cbbe058494b18a83d8d617153f833",
            "c4e8499e157844c2b61232c9d1dac12d",
            "b87f484157f544aeb10db0fd166370ad",
            "e2554147932243d7800455cef96bcccb",
            "70708d03fb6a4ef59d717a22fc37d1f3",
            "a0cb224eca1e446c99b452cc7da7d740",
            "9144501499a04918b4951a47886b3e73",
            "d3773599d0bb40a681b92f1ffd48a3e9",
            "419d5d4152c14614864894ea01186732",
            "538a598c1b764f459742d7aa6b53f5d2",
            "c539345997b74935b081d8c3590e4cdf",
            "c34ab1de4d02436eb7c221c3e516498f",
            "5633d76d11894270a050bdbb02e081d5",
            "da60847df93943968ad48133ae74ff69",
            "a8be404e099547c0a4cef47b09641b17",
            "a9f780d44be54bbf954fba941b3d1d6c",
            "7b27ba6110f44131b6df2f16f3fc5e9f",
            "40c9e8b0fe7c4e7eb2686124fd35e6e0",
            "21a7e9673a0a48a59357b3ea599598f1",
            "d8fa2811230c45b5ba276ff19ee3ea9a",
            "b6cb5ab9a8934b809324336f77bdd995"
          ]
        },
        "id": "fa84ec96",
        "executionInfo": {
          "status": "ok",
          "timestamp": 1718836774866,
          "user_tz": 420,
          "elapsed": 19613,
          "user": {
            "displayName": "Axel Sirota",
            "userId": "02089179879199828401"
          }
        },
        "outputId": "2b004262-497e-4177-df32-ec87285b42b7"
      },
      "outputs": [
        {
          "output_type": "stream",
          "name": "stderr",
          "text": [
            "/usr/local/lib/python3.10/dist-packages/huggingface_hub/utils/_token.py:89: UserWarning: \n",
            "The secret `HF_TOKEN` does not exist in your Colab secrets.\n",
            "To authenticate with the Hugging Face Hub, create a token in your settings tab (https://huggingface.co/settings/tokens), set it as secret in your Google Colab and restart your session.\n",
            "You will be able to reuse this secret in all of your notebooks.\n",
            "Please note that authentication is recommended but still optional to access public models or datasets.\n",
            "  warnings.warn(\n"
          ]
        },
        {
          "output_type": "display_data",
          "data": {
            "text/plain": [
              "Downloading readme:   0%|          | 0.00/11.1k [00:00<?, ?B/s]"
            ],
            "application/vnd.jupyter.widget-view+json": {
              "version_major": 2,
              "version_minor": 0,
              "model_id": "bcdd66f19d7b4fa39a14daa285c7146f"
            }
          },
          "metadata": {}
        },
        {
          "output_type": "display_data",
          "data": {
            "text/plain": [
              "Downloading data:   0%|          | 0.00/282M [00:00<?, ?B/s]"
            ],
            "application/vnd.jupyter.widget-view+json": {
              "version_major": 2,
              "version_minor": 0,
              "model_id": "437ab5160c8c424ca0d2af94894a3ab9"
            }
          },
          "metadata": {}
        },
        {
          "output_type": "display_data",
          "data": {
            "text/plain": [
              "Downloading data:   0%|          | 0.00/267M [00:00<?, ?B/s]"
            ],
            "application/vnd.jupyter.widget-view+json": {
              "version_major": 2,
              "version_minor": 0,
              "model_id": "7d3441f2b7e945ec8faeee3d0a749525"
            }
          },
          "metadata": {}
        },
        {
          "output_type": "display_data",
          "data": {
            "text/plain": [
              "Downloading data:   0%|          | 0.00/277M [00:00<?, ?B/s]"
            ],
            "application/vnd.jupyter.widget-view+json": {
              "version_major": 2,
              "version_minor": 0,
              "model_id": "7100377d0a5446eb82fa82fe82e3f116"
            }
          },
          "metadata": {}
        },
        {
          "output_type": "display_data",
          "data": {
            "text/plain": [
              "Downloading data:   0%|          | 0.00/343k [00:00<?, ?B/s]"
            ],
            "application/vnd.jupyter.widget-view+json": {
              "version_major": 2,
              "version_minor": 0,
              "model_id": "bb683e82523e4f0bb90a57e380ddb8b2"
            }
          },
          "metadata": {}
        },
        {
          "output_type": "display_data",
          "data": {
            "text/plain": [
              "Downloading data:   0%|          | 0.00/475k [00:00<?, ?B/s]"
            ],
            "application/vnd.jupyter.widget-view+json": {
              "version_major": 2,
              "version_minor": 0,
              "model_id": "36057055c4424c938de890ce5755db83"
            }
          },
          "metadata": {}
        },
        {
          "output_type": "display_data",
          "data": {
            "text/plain": [
              "Generating train split:   0%|          | 0/4548885 [00:00<?, ? examples/s]"
            ],
            "application/vnd.jupyter.widget-view+json": {
              "version_major": 2,
              "version_minor": 0,
              "model_id": "b62e961c8b6b4c55b0e3f988275866b4"
            }
          },
          "metadata": {}
        },
        {
          "output_type": "display_data",
          "data": {
            "text/plain": [
              "Generating validation split:   0%|          | 0/2169 [00:00<?, ? examples/s]"
            ],
            "application/vnd.jupyter.widget-view+json": {
              "version_major": 2,
              "version_minor": 0,
              "model_id": "29b9c79fc0124d81a27acd14e4a0f7ea"
            }
          },
          "metadata": {}
        },
        {
          "output_type": "display_data",
          "data": {
            "text/plain": [
              "Generating test split:   0%|          | 0/2999 [00:00<?, ? examples/s]"
            ],
            "application/vnd.jupyter.widget-view+json": {
              "version_major": 2,
              "version_minor": 0,
              "model_id": "c539345997b74935b081d8c3590e4cdf"
            }
          },
          "metadata": {}
        },
        {
          "output_type": "stream",
          "name": "stdout",
          "text": [
            "{'translation': {'de': 'Wiederaufnahme der Sitzungsperiode', 'en': 'Resumption of the session'}}\n"
          ]
        }
      ],
      "source": [
        "from datasets import load_dataset\n",
        "\n",
        "# Load the WMT16 English-German dataset\n",
        "dataset = load_dataset('wmt16', 'de-en')\n",
        "\n",
        "# Display an example\n",
        "print(dataset['train'][0])"
      ]
    },
    {
      "cell_type": "code",
      "source": [
        "from transformers import TFAutoModelForSeq2SeqLM, AutoTokenizer\n",
        "import tensorflow as tf\n",
        "\n",
        "# Load the tokenizer and model\n",
        "tokenizer = AutoTokenizer.from_pretrained('google/flan-t5-base')\n",
        "model = TFAutoModelForSeq2SeqLM.from_pretrained('google/flan-t5-base')"
      ],
      "metadata": {
        "colab": {
          "base_uri": "https://localhost:8080/",
          "height": 333,
          "referenced_widgets": [
            "ac952019d1364d7bbe571e93be86abb9",
            "ce740aae33094caab9cfcc41535712ad",
            "7ba7aa68bbd8426a978aedc4c6753c7c",
            "488d846410b44dfd910183f04ec27b2c",
            "0a2e09d4c5a3434f8441bd02950ce4cf",
            "26b9cf534c294dce90e6f57c30dd8ff8",
            "29ccc9c5b9f44765bd17d9adacc0673b",
            "19ab6ea125974a1da7393922d4da79ec",
            "e462655d4efa448b8c4723a37f465608",
            "c2e9bc5b7e3043e487ce066365546ca2",
            "a2315219722e426dbed13d71219a1d2c",
            "c0ce9c7b14d24cb9820c8354fd6dfa66",
            "d4ccc2e742694398b985a47e7acbddf2",
            "4994a1b6a0a14ccb8274ecc3ac4a9479",
            "79b46c8a2072458cb6d44835d3f39db3",
            "e4c0656cdeea4e07af0c267bcb2a4cf0",
            "f57a8190f47947a79e2285562ba3954a",
            "d2d09348da734fe28e276a2725fca243",
            "175bb94c69374401a752135d40cb8f3a",
            "9e03234ead0f4e7aa238a791de8e196d",
            "b14be0e17f6d4ef0b0e48bd904b56b36",
            "a9d6e0b34eaf45abbfa67659232778bf",
            "ae18f93e3355453ba4b99c8973e1df68",
            "c05450d5317f4c128c89f58032770bc3",
            "83945117c4ea43db955ec0fdb2315b96",
            "1c22c375a5204b019260fcbad84783ee",
            "38fbdab42676425ca67500586cf9eecd",
            "cc52eee31eda4a5ebc5a5ac2e6c722b0",
            "513a8d418e76476cb4e97348bb7298a3",
            "b397c0c7fc82460283db112e65e30af1",
            "a1aeb07af61f4871b0109c79951fd6f9",
            "bc2b886b655c4df5906e8e648fa78360",
            "9b3e7dab07044b7391a24c349a3f1f8b",
            "bc43782339fd4856949360c5780105ff",
            "09a8ac29cc434b3ea727634fbed48571",
            "4cb5c57eec934d40bc3e3c3800073e3c",
            "517381e97e3d4b338796ee28746803cc",
            "dfc45f37bd834915b01bde96386b486c",
            "5525d83339b04174b70e54a2fbb2c33c",
            "d32c7085f26247658e7959a87dde5fc6",
            "e194dfad58a7422087390a2b8fe08319",
            "e0d1a8ea98af418e93b73d430dca2d26",
            "aebf5d88548a470e8715a54d6f685d46",
            "67e9098abb07485192ce8ad6521befbb",
            "e2964606b64346f590c1218c2803e510",
            "40d09a1d51ff4423b81b4ab4a8485d12",
            "996866c329104f2383ca3b9a786e1d4f",
            "7822e5b1f255446abdeddc6d83f1391e",
            "1b0718ac84eb41d0822365223b517881",
            "6276e00f203b4048802b34f5cceee20c",
            "7a13c78fbb664f2c97b30b3329ba926f",
            "ba8ff8bd4b77480ab9d9a1b756fe4838",
            "61764b9b24d94b25aa6bdf0ac964f642",
            "ff903696e25844c1b12820954a006b0e",
            "ff5e17dc502246e1a4a5fe458e5d0757",
            "e6820b09b22f421dbf3419a2d297e97c",
            "8045302362e0433884c5b7e57d1e8ef5",
            "d893a1600d9c46aabd5599a71b0e1cd5",
            "f2a664efda3d48f38365be30215e2872",
            "aff86ccc36a545359d2ddbfd39c57bf8",
            "7bdb1098a86543f0a69def124712b1d5",
            "0c56e82a136c46f49229bc48cdfc86f9",
            "887bf376e4a243f5ab833db2195bd06d",
            "4e00fd0005884357b6f536c9f5ca398f",
            "00995f5b8f0a4c9b95c3de4e5fef361b",
            "ae14a8c5e6a54f81bc03bcf9f467e1e4"
          ]
        },
        "id": "EqtX7_0HWY11",
        "executionInfo": {
          "status": "ok",
          "timestamp": 1718836800111,
          "user_tz": 420,
          "elapsed": 14580,
          "user": {
            "displayName": "Axel Sirota",
            "userId": "02089179879199828401"
          }
        },
        "outputId": "3cf8371d-39a1-4505-e7eb-89cf47fbe9fe"
      },
      "id": "EqtX7_0HWY11",
      "execution_count": 3,
      "outputs": [
        {
          "output_type": "display_data",
          "data": {
            "text/plain": [
              "tokenizer_config.json:   0%|          | 0.00/2.54k [00:00<?, ?B/s]"
            ],
            "application/vnd.jupyter.widget-view+json": {
              "version_major": 2,
              "version_minor": 0,
              "model_id": "ac952019d1364d7bbe571e93be86abb9"
            }
          },
          "metadata": {}
        },
        {
          "output_type": "display_data",
          "data": {
            "text/plain": [
              "spiece.model:   0%|          | 0.00/792k [00:00<?, ?B/s]"
            ],
            "application/vnd.jupyter.widget-view+json": {
              "version_major": 2,
              "version_minor": 0,
              "model_id": "c0ce9c7b14d24cb9820c8354fd6dfa66"
            }
          },
          "metadata": {}
        },
        {
          "output_type": "display_data",
          "data": {
            "text/plain": [
              "tokenizer.json:   0%|          | 0.00/2.42M [00:00<?, ?B/s]"
            ],
            "application/vnd.jupyter.widget-view+json": {
              "version_major": 2,
              "version_minor": 0,
              "model_id": "ae18f93e3355453ba4b99c8973e1df68"
            }
          },
          "metadata": {}
        },
        {
          "output_type": "display_data",
          "data": {
            "text/plain": [
              "special_tokens_map.json:   0%|          | 0.00/2.20k [00:00<?, ?B/s]"
            ],
            "application/vnd.jupyter.widget-view+json": {
              "version_major": 2,
              "version_minor": 0,
              "model_id": "bc43782339fd4856949360c5780105ff"
            }
          },
          "metadata": {}
        },
        {
          "output_type": "display_data",
          "data": {
            "text/plain": [
              "config.json:   0%|          | 0.00/1.40k [00:00<?, ?B/s]"
            ],
            "application/vnd.jupyter.widget-view+json": {
              "version_major": 2,
              "version_minor": 0,
              "model_id": "e2964606b64346f590c1218c2803e510"
            }
          },
          "metadata": {}
        },
        {
          "output_type": "display_data",
          "data": {
            "text/plain": [
              "model.safetensors:   0%|          | 0.00/990M [00:00<?, ?B/s]"
            ],
            "application/vnd.jupyter.widget-view+json": {
              "version_major": 2,
              "version_minor": 0,
              "model_id": "e6820b09b22f421dbf3419a2d297e97c"
            }
          },
          "metadata": {}
        },
        {
          "output_type": "stream",
          "name": "stderr",
          "text": [
            "/usr/local/lib/python3.10/dist-packages/tf_keras/src/initializers/initializers.py:121: UserWarning: The initializer RandomNormal is unseeded and being called multiple times, which will return identical values each time (even if the initializer is unseeded). Please update your code to provide a seed to the initializer, or avoid using the same initializer instance more than once.\n",
            "  warnings.warn(\n",
            "All PyTorch model weights were used when initializing TFT5ForConditionalGeneration.\n",
            "\n",
            "All the weights of TFT5ForConditionalGeneration were initialized from the PyTorch model.\n",
            "If your task is similar to the task the model of the checkpoint was trained on, you can already use TFT5ForConditionalGeneration for predictions without further training.\n"
          ]
        }
      ]
    },
    {
      "cell_type": "code",
      "execution_count": 4,
      "id": "920f7022",
      "metadata": {
        "colab": {
          "base_uri": "https://localhost:8080/",
          "height": 205,
          "referenced_widgets": [
            "6efcb09e6ce84120b94a5962dd006de0",
            "acd67b8c64744b38bbe40244b8ef257b",
            "283ae2e11630424f8ceca581e4316f2c",
            "63f5d6e0b9ea49feaca13b8ebd656616",
            "b005f6c99ff74f7e91bd4f25d4a7fb5c",
            "9ae29a2632e545d295398a343f2eaa1e",
            "7e2c758e7285448aa34c58d8aca85619",
            "5c5d86f726654134b0df582e1e569a7b",
            "f74e3b97f7a2470cb75b8e179ecab725",
            "9a3e86f7add04f0380580f14b51aaf7b",
            "38efa40ed2864a1f9bcf4bfc3453b6d8",
            "737051b7a6344de0bc7d62589b448e2c",
            "a109b989fe6e4a91b4d9f0e49a718ba3",
            "79acbde43a9a45b18cd30ebb44c571e9",
            "5810c08c1fb849efab68f9f087b595b4",
            "6a4256d2f4264bc4bcbc4489a0d19c4a",
            "f3b4e38e50624d939ddf9596415898bc",
            "1f707a973bd747f89c0c11199495278b",
            "dd2e86e8a67349fab16d9237acd984b7",
            "b025a4eabcde4e07bff628524ea95713",
            "de0c49fa9a4e4193b8afb76efe51c3c0",
            "a02af077018a4f8da10fb4226d1a9beb"
          ]
        },
        "id": "920f7022",
        "executionInfo": {
          "status": "ok",
          "timestamp": 1718836861738,
          "user_tz": 420,
          "elapsed": 6238,
          "user": {
            "displayName": "Axel Sirota",
            "userId": "02089179879199828401"
          }
        },
        "outputId": "5665c2a6-7d17-4a71-8366-da10614814ec"
      },
      "outputs": [
        {
          "output_type": "display_data",
          "data": {
            "text/plain": [
              "Map:   0%|          | 0/30000 [00:00<?, ? examples/s]"
            ],
            "application/vnd.jupyter.widget-view+json": {
              "version_major": 2,
              "version_minor": 0,
              "model_id": "6efcb09e6ce84120b94a5962dd006de0"
            }
          },
          "metadata": {}
        },
        {
          "output_type": "display_data",
          "data": {
            "text/plain": [
              "Map:   0%|          | 0/2000 [00:00<?, ? examples/s]"
            ],
            "application/vnd.jupyter.widget-view+json": {
              "version_major": 2,
              "version_minor": 0,
              "model_id": "737051b7a6344de0bc7d62589b448e2c"
            }
          },
          "metadata": {}
        },
        {
          "output_type": "stream",
          "name": "stderr",
          "text": [
            "/usr/local/lib/python3.10/dist-packages/datasets/arrow_dataset.py:410: FutureWarning: The output of `to_tf_dataset` will change when a passing single element list for `labels` or `columns` in the next datasets version. To return a tuple structure rather than dict, pass a single string.\n",
            "Old behaviour: columns=['a'], labels=['labels'] -> (tf.Tensor, tf.Tensor)  \n",
            "             : columns='a', labels='labels' -> (tf.Tensor, tf.Tensor)  \n",
            "New behaviour: columns=['a'],labels=['labels'] -> ({'a': tf.Tensor}, {'labels': tf.Tensor})  \n",
            "             : columns='a', labels='labels' -> (tf.Tensor, tf.Tensor) \n",
            "  warnings.warn(\n"
          ]
        }
      ],
      "source": [
        "# Preprocess the dataset for input into the model\n",
        "def preprocess_data(examples):\n",
        "    inputs = [f'Translate English to German: {example[\"en\"]}' for example in examples['translation']]\n",
        "    targets = [example['de'] for example in examples['translation']]\n",
        "    model_inputs = tokenizer(inputs, max_length=128, truncation=True, padding='max_length', return_tensors='tf')\n",
        "    labels = tokenizer(targets, max_length=128, truncation=True, padding='max_length', return_tensors='tf').input_ids\n",
        "    model_inputs['labels'] = labels\n",
        "    decoder_inputs = tokenizer(targets, max_length=128, truncation=True, padding=\"max_length\")\n",
        "    model_inputs[\"decoder_input_ids\"] = decoder_inputs[\"input_ids\"]\n",
        "    return model_inputs\n",
        "\n",
        "\n",
        "train_dataset = dataset['train'].select(range(30000)).map(preprocess_data, batched=True)\n",
        "test_dataset = dataset['test'].select(range(2000)).map(preprocess_data, batched=True)\n",
        "\n",
        "train_dataset = train_dataset.to_tf_dataset(\n",
        "    columns=['input_ids', 'attention_mask', 'decoder_input_ids'],\n",
        "    label_cols=['labels'],\n",
        "    shuffle=True,\n",
        "    batch_size=64,\n",
        "    collate_fn=None\n",
        ")\n",
        "\n",
        "test_dataset = test_dataset.to_tf_dataset(\n",
        "    columns=['input_ids', 'attention_mask', 'decoder_input_ids'],\n",
        "    label_cols=['labels'],\n",
        "    shuffle=True,\n",
        "    batch_size=64,\n",
        "    collate_fn=None\n",
        ")"
      ]
    },
    {
      "cell_type": "code",
      "execution_count": 5,
      "id": "733d2ee0",
      "metadata": {
        "colab": {
          "base_uri": "https://localhost:8080/"
        },
        "id": "733d2ee0",
        "executionInfo": {
          "status": "ok",
          "timestamp": 1718836866034,
          "user_tz": 420,
          "elapsed": 169,
          "user": {
            "displayName": "Axel Sirota",
            "userId": "02089179879199828401"
          }
        },
        "outputId": "b23392f7-c8ff-4d65-a4a1-21b6cd764723"
      },
      "outputs": [
        {
          "output_type": "stream",
          "name": "stdout",
          "text": [
            "Model: \"tft5_for_conditional_generation\"\n",
            "_________________________________________________________________\n",
            " Layer (type)                Output Shape              Param #   \n",
            "=================================================================\n",
            " shared (Embedding)          multiple                  24674304  \n",
            "                                                                 \n",
            " encoder (TFT5MainLayer)     multiple                  109628544 \n",
            "                                                                 \n",
            " decoder (TFT5MainLayer)     multiple                  137949312 \n",
            "                                                                 \n",
            " lm_head (Dense)             multiple                  24674304  \n",
            "                                                                 \n",
            "=================================================================\n",
            "Total params: 247577856 (944.43 MB)\n",
            "Trainable params: 247577856 (944.43 MB)\n",
            "Non-trainable params: 0 (0.00 Byte)\n",
            "_________________________________________________________________\n"
          ]
        }
      ],
      "source": [
        "model.summary()"
      ]
    },
    {
      "cell_type": "code",
      "source": [
        "model.get_layer('shared').trainable = False\n",
        "model.get_layer('encoder').trainable = False\n",
        "model.get_layer('decoder').trainable = False"
      ],
      "metadata": {
        "id": "Ht06yP4AXp6g",
        "executionInfo": {
          "status": "ok",
          "timestamp": 1718836866290,
          "user_tz": 420,
          "elapsed": 2,
          "user": {
            "displayName": "Axel Sirota",
            "userId": "02089179879199828401"
          }
        }
      },
      "id": "Ht06yP4AXp6g",
      "execution_count": 6,
      "outputs": []
    },
    {
      "cell_type": "code",
      "source": [
        "model.summary()"
      ],
      "metadata": {
        "colab": {
          "base_uri": "https://localhost:8080/"
        },
        "id": "0J5cl0FOXyMx",
        "executionInfo": {
          "status": "ok",
          "timestamp": 1718836871157,
          "user_tz": 420,
          "elapsed": 175,
          "user": {
            "displayName": "Axel Sirota",
            "userId": "02089179879199828401"
          }
        },
        "outputId": "ab40594e-114f-4205-9f95-fd640412df8a"
      },
      "id": "0J5cl0FOXyMx",
      "execution_count": 7,
      "outputs": [
        {
          "output_type": "stream",
          "name": "stdout",
          "text": [
            "Model: \"tft5_for_conditional_generation\"\n",
            "_________________________________________________________________\n",
            " Layer (type)                Output Shape              Param #   \n",
            "=================================================================\n",
            " shared (Embedding)          multiple                  24674304  \n",
            "                                                                 \n",
            " encoder (TFT5MainLayer)     multiple                  109628544 \n",
            "                                                                 \n",
            " decoder (TFT5MainLayer)     multiple                  137949312 \n",
            "                                                                 \n",
            " lm_head (Dense)             multiple                  24674304  \n",
            "                                                                 \n",
            "=================================================================\n",
            "Total params: 247577856 (944.43 MB)\n",
            "Trainable params: 24674304 (94.12 MB)\n",
            "Non-trainable params: 222903552 (850.31 MB)\n",
            "_________________________________________________________________\n"
          ]
        }
      ]
    },
    {
      "cell_type": "markdown",
      "id": "57d876fe",
      "metadata": {
        "id": "57d876fe"
      },
      "source": [
        "## Train the Model"
      ]
    },
    {
      "cell_type": "code",
      "execution_count": 8,
      "id": "760fa903",
      "metadata": {
        "colab": {
          "base_uri": "https://localhost:8080/"
        },
        "id": "760fa903",
        "executionInfo": {
          "status": "ok",
          "timestamp": 1718837544112,
          "user_tz": 420,
          "elapsed": 660026,
          "user": {
            "displayName": "Axel Sirota",
            "userId": "02089179879199828401"
          }
        },
        "outputId": "3d4c7e94-1ba8-4353-9c80-320c6d2c8752"
      },
      "outputs": [
        {
          "output_type": "stream",
          "name": "stdout",
          "text": [
            "Epoch 1/3\n"
          ]
        },
        {
          "output_type": "stream",
          "name": "stderr",
          "text": [
            "WARNING:tensorflow:AutoGraph could not transform <function infer_framework at 0x7b5c47331480> and will run it as-is.\n",
            "Cause: for/else statement not yet supported\n",
            "To silence this warning, decorate the function with @tf.autograph.experimental.do_not_convert\n"
          ]
        },
        {
          "output_type": "stream",
          "name": "stdout",
          "text": [
            "WARNING: AutoGraph could not transform <function infer_framework at 0x7b5c47331480> and will run it as-is.\n",
            "Cause: for/else statement not yet supported\n",
            "To silence this warning, decorate the function with @tf.autograph.experimental.do_not_convert\n",
            "469/469 [==============================] - 300s 442ms/step - loss: 38.5995 - val_loss: 41.4301\n",
            "Epoch 2/3\n",
            "469/469 [==============================] - 180s 383ms/step - loss: 37.7107 - val_loss: 40.5200\n",
            "Epoch 3/3\n",
            "469/469 [==============================] - 180s 383ms/step - loss: 36.8942 - val_loss: 39.6269\n"
          ]
        },
        {
          "output_type": "execute_result",
          "data": {
            "text/plain": [
              "<tf_keras.src.callbacks.History at 0x7b5bcc190040>"
            ]
          },
          "metadata": {},
          "execution_count": 8
        }
      ],
      "source": [
        "# Compile the model\n",
        "model.compile(optimizer=tf.keras.optimizers.Adam(learning_rate=2e-5),\n",
        "              loss=tf.keras.losses.SparseCategoricalCrossentropy(from_logits=True))\n",
        "\n",
        "# Train the model\n",
        "model.fit(train_dataset, validation_data=test_dataset, epochs=3)"
      ]
    },
    {
      "cell_type": "markdown",
      "id": "6236d2bf",
      "metadata": {
        "id": "6236d2bf"
      },
      "source": [
        "## Evaluate the Model"
      ]
    },
    {
      "cell_type": "code",
      "execution_count": 9,
      "id": "d61f6513",
      "metadata": {
        "colab": {
          "base_uri": "https://localhost:8080/"
        },
        "id": "d61f6513",
        "executionInfo": {
          "status": "ok",
          "timestamp": 1718837716198,
          "user_tz": 420,
          "elapsed": 37289,
          "user": {
            "displayName": "Axel Sirota",
            "userId": "02089179879199828401"
          }
        },
        "outputId": "74cb23b3-5d10-4fad-e6d5-a85f4d8a8990"
      },
      "outputs": [
        {
          "output_type": "stream",
          "name": "stderr",
          "text": [
            "[nltk_data] Downloading package punkt to /root/nltk_data...\n",
            "[nltk_data]   Unzipping tokenizers/punkt.zip.\n"
          ]
        },
        {
          "output_type": "stream",
          "name": "stdout",
          "text": [
            "Average BLEU score on validation set: 0.12046652716839085\n"
          ]
        }
      ],
      "source": [
        "from nltk.translate.bleu_score import sentence_bleu, SmoothingFunction\n",
        "import nltk\n",
        "nltk.download('punkt')\n",
        "\n",
        "# Function to calculate BLEU score\n",
        "def calculate_bleu(reference, hypothesis):\n",
        "    reference_tokens = [nltk.word_tokenize(reference)]\n",
        "    hypothesis_tokens = nltk.word_tokenize(hypothesis)\n",
        "    bleu_score = sentence_bleu(reference_tokens, hypothesis_tokens, smoothing_function=SmoothingFunction().method4)\n",
        "    return bleu_score\n",
        "\n",
        "# Function to translate and evaluate\n",
        "def translate_and_evaluate(dataset):\n",
        "    bleu_scores = []\n",
        "    batch = next(iter(dataset))\n",
        "    inputs = batch[0]['input_ids']\n",
        "    references = batch[1]\n",
        "    outputs = model.generate(inputs, max_length=128, num_beams=4, early_stopping=True)\n",
        "    for i in range(len(inputs)):\n",
        "        reference = tokenizer.decode(references[i], skip_special_tokens=True)\n",
        "        hypothesis = tokenizer.decode(outputs[i], skip_special_tokens=True)\n",
        "        bleu_score = calculate_bleu(reference, hypothesis)\n",
        "        bleu_scores.append(bleu_score)\n",
        "    return sum(bleu_scores) / len(bleu_scores)\n",
        "\n",
        "# Evaluate on the validation set\n",
        "average_bleu_score = translate_and_evaluate(test_dataset)\n",
        "print(f'Average BLEU score on validation set: {average_bleu_score}')"
      ]
    },
    {
      "cell_type": "markdown",
      "id": "a3a79629",
      "metadata": {
        "id": "a3a79629"
      },
      "source": [
        "## Conclusion\n",
        "In this notebook, we used the FLAN-T5 model to perform translation from English to German using the WMT16 dataset. We preprocessed the dataset, fine-tuned the model, and evaluated its performance using the BLEU metric. The results demonstrate the effectiveness of the FLAN-T5 model for translation tasks."
      ]
    }
  ],
  "metadata": {
    "colab": {
      "provenance": [],
      "machine_shape": "hm",
      "gpuType": "A100"
    },
    "language_info": {
      "name": "python"
    },
    "accelerator": "GPU",
    "kernelspec": {
      "name": "python3",
      "display_name": "Python 3"
    }
  },
  "nbformat": 4,
  "nbformat_minor": 5
}
